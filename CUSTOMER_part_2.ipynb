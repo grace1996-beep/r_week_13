{
  "nbformat": 4,
  "nbformat_minor": 0,
  "metadata": {
    "colab": {
      "name": "CUSTOMER part 2",
      "provenance": [],
      "authorship_tag": "ABX9TyPXHLrgElGgkcJDs5JlEd93",
      "include_colab_link": true
    },
    "kernelspec": {
      "name": "python3",
      "display_name": "Python 3"
    },
    "language_info": {
      "name": "python"
    }
  },
  "cells": [
    {
      "cell_type": "markdown",
      "metadata": {
        "id": "view-in-github",
        "colab_type": "text"
      },
      "source": [
        "<a href=\"https://colab.research.google.com/github/grace1996-beep/r_week_13/blob/main/CUSTOMER_part_2.ipynb\" target=\"_parent\"><img src=\"https://colab.research.google.com/assets/colab-badge.svg\" alt=\"Open In Colab\"/></a>"
      ]
    },
    {
      "cell_type": "markdown",
      "metadata": {
        "id": "x9OaGH2Pn2OG"
      },
      "source": [
        "# CUSTOMER BEHAVIOUR ANALYSIS IN R"
      ]
    },
    {
      "cell_type": "markdown",
      "metadata": {
        "id": "K3TCb4QroDQG"
      },
      "source": [
        "#Defining the reserch question\n",
        "1. To perform analysis on customer behaviour"
      ]
    },
    {
      "cell_type": "markdown",
      "metadata": {
        "id": "hvRu1ecqofSy"
      },
      "source": [
        ""
      ]
    },
    {
      "cell_type": "markdown",
      "metadata": {
        "id": "1gvDyto-oND0"
      },
      "source": [
        "# Defining the metrics of success\n",
        "1. Loading the dataset\n",
        "\n",
        "2. Performing data cleaning\n",
        "\n",
        "3. Performing Bivariate Analysis\n",
        "\n",
        "4. Performing univariarte Analysis\n",
        "\n",
        "5. Providing recomendations\n",
        "\n",
        "6. performing supervised learning"
      ]
    },
    {
      "cell_type": "code",
      "metadata": {
        "id": "WC5FpC3H9DX1",
        "colab": {
          "base_uri": "https://localhost:8080/"
        },
        "outputId": "c8e63a61-0e9a-423c-8314-7fe63eae9f65"
      },
      "source": [
        "%load_ext rpy2.ipython"
      ],
      "execution_count": null,
      "outputs": [
        {
          "output_type": "stream",
          "text": [
            "The rpy2.ipython extension is already loaded. To reload it, use:\n",
            "  %reload_ext rpy2.ipython\n"
          ],
          "name": "stdout"
        }
      ]
    },
    {
      "cell_type": "code",
      "metadata": {
        "id": "3BIB-p2C9RRB"
      },
      "source": [
        "%%R\n",
        "library(ggplot2) \n",
        "library(tidyverse)"
      ],
      "execution_count": null,
      "outputs": []
    },
    {
      "cell_type": "code",
      "metadata": {
        "colab": {
          "base_uri": "https://localhost:8080/"
        },
        "id": "GoXgH4-uvui8",
        "outputId": "547f6421-c080-42fa-bddd-a735ad66566d"
      },
      "source": [
        "%%R\n",
        "install.packages(\"tidyverse\")\n",
        "install.packages(\"funModeling\")\n",
        "install.packages(\"Hmisc\")"
      ],
      "execution_count": null,
      "outputs": [
        {
          "output_type": "stream",
          "text": [
            "R[write to console]: Installing package into ‘/usr/local/lib/R/site-library’\n",
            "(as ‘lib’ is unspecified)\n",
            "\n",
            "R[write to console]: trying URL 'https://cran.rstudio.com/src/contrib/tidyverse_1.3.1.tar.gz'\n",
            "\n",
            "R[write to console]: Content type 'application/x-gzip'\n",
            "R[write to console]:  length 702779 bytes (686 KB)\n",
            "\n",
            "R[write to console]: =\n",
            "R[write to console]: =\n",
            "R[write to console]: =\n",
            "R[write to console]: =\n",
            "R[write to console]: =\n",
            "R[write to console]: =\n",
            "R[write to console]: =\n",
            "R[write to console]: =\n",
            "R[write to console]: =\n",
            "R[write to console]: =\n",
            "R[write to console]: =\n",
            "R[write to console]: =\n",
            "R[write to console]: =\n",
            "R[write to console]: =\n",
            "R[write to console]: =\n",
            "R[write to console]: =\n",
            "R[write to console]: =\n",
            "R[write to console]: =\n",
            "R[write to console]: =\n",
            "R[write to console]: =\n",
            "R[write to console]: =\n",
            "R[write to console]: =\n",
            "R[write to console]: =\n",
            "R[write to console]: =\n",
            "R[write to console]: =\n",
            "R[write to console]: =\n",
            "R[write to console]: =\n",
            "R[write to console]: =\n",
            "R[write to console]: =\n",
            "R[write to console]: =\n",
            "R[write to console]: =\n",
            "R[write to console]: =\n",
            "R[write to console]: =\n",
            "R[write to console]: =\n",
            "R[write to console]: =\n",
            "R[write to console]: =\n",
            "R[write to console]: =\n",
            "R[write to console]: =\n",
            "R[write to console]: =\n",
            "R[write to console]: =\n",
            "R[write to console]: =\n",
            "R[write to console]: =\n",
            "R[write to console]: =\n",
            "R[write to console]: =\n",
            "R[write to console]: =\n",
            "R[write to console]: =\n",
            "R[write to console]: =\n",
            "R[write to console]: =\n",
            "R[write to console]: =\n",
            "R[write to console]: =\n",
            "R[write to console]: \n",
            "\n",
            "R[write to console]: downloaded 686 KB\n",
            "\n",
            "\n",
            "R[write to console]: \n",
            "\n",
            "R[write to console]: \n",
            "R[write to console]: The downloaded source packages are in\n",
            "\t‘/tmp/Rtmpzhx1ZC/downloaded_packages’\n",
            "R[write to console]: \n",
            "R[write to console]: \n",
            "\n",
            "R[write to console]: Installing package into ‘/usr/local/lib/R/site-library’\n",
            "(as ‘lib’ is unspecified)\n",
            "\n",
            "R[write to console]: trying URL 'https://cran.rstudio.com/src/contrib/funModeling_1.9.4.tar.gz'\n",
            "\n",
            "R[write to console]: Content type 'application/x-gzip'\n",
            "R[write to console]:  length 716287 bytes (699 KB)\n",
            "\n",
            "R[write to console]: =\n",
            "R[write to console]: =\n",
            "R[write to console]: =\n",
            "R[write to console]: =\n",
            "R[write to console]: =\n",
            "R[write to console]: =\n",
            "R[write to console]: =\n",
            "R[write to console]: =\n",
            "R[write to console]: =\n",
            "R[write to console]: =\n",
            "R[write to console]: =\n",
            "R[write to console]: =\n",
            "R[write to console]: =\n",
            "R[write to console]: =\n",
            "R[write to console]: =\n",
            "R[write to console]: =\n",
            "R[write to console]: =\n",
            "R[write to console]: =\n",
            "R[write to console]: =\n",
            "R[write to console]: =\n",
            "R[write to console]: =\n",
            "R[write to console]: =\n",
            "R[write to console]: =\n",
            "R[write to console]: =\n",
            "R[write to console]: =\n",
            "R[write to console]: =\n",
            "R[write to console]: =\n",
            "R[write to console]: =\n",
            "R[write to console]: =\n",
            "R[write to console]: =\n",
            "R[write to console]: =\n",
            "R[write to console]: =\n",
            "R[write to console]: =\n",
            "R[write to console]: =\n",
            "R[write to console]: =\n",
            "R[write to console]: =\n",
            "R[write to console]: =\n",
            "R[write to console]: =\n",
            "R[write to console]: =\n",
            "R[write to console]: =\n",
            "R[write to console]: =\n",
            "R[write to console]: =\n",
            "R[write to console]: =\n",
            "R[write to console]: =\n",
            "R[write to console]: =\n",
            "R[write to console]: =\n",
            "R[write to console]: =\n",
            "R[write to console]: =\n",
            "R[write to console]: =\n",
            "R[write to console]: =\n",
            "R[write to console]: \n",
            "\n",
            "R[write to console]: downloaded 699 KB\n",
            "\n",
            "\n",
            "R[write to console]: \n",
            "\n",
            "R[write to console]: \n",
            "R[write to console]: The downloaded source packages are in\n",
            "\t‘/tmp/Rtmpzhx1ZC/downloaded_packages’\n",
            "R[write to console]: \n",
            "R[write to console]: \n",
            "\n",
            "R[write to console]: Installing package into ‘/usr/local/lib/R/site-library’\n",
            "(as ‘lib’ is unspecified)\n",
            "\n",
            "R[write to console]: trying URL 'https://cran.rstudio.com/src/contrib/Hmisc_4.5-0.tar.gz'\n",
            "\n",
            "R[write to console]: Content type 'application/x-gzip'\n",
            "R[write to console]:  length 775444 bytes (757 KB)\n",
            "\n",
            "R[write to console]: =\n",
            "R[write to console]: =\n",
            "R[write to console]: =\n",
            "R[write to console]: =\n",
            "R[write to console]: =\n",
            "R[write to console]: =\n",
            "R[write to console]: =\n",
            "R[write to console]: =\n",
            "R[write to console]: =\n",
            "R[write to console]: =\n",
            "R[write to console]: =\n",
            "R[write to console]: =\n",
            "R[write to console]: =\n",
            "R[write to console]: =\n",
            "R[write to console]: =\n",
            "R[write to console]: =\n",
            "R[write to console]: =\n",
            "R[write to console]: =\n",
            "R[write to console]: =\n",
            "R[write to console]: =\n",
            "R[write to console]: =\n",
            "R[write to console]: =\n",
            "R[write to console]: =\n",
            "R[write to console]: =\n",
            "R[write to console]: =\n",
            "R[write to console]: =\n",
            "R[write to console]: =\n",
            "R[write to console]: =\n",
            "R[write to console]: =\n",
            "R[write to console]: =\n",
            "R[write to console]: =\n",
            "R[write to console]: =\n",
            "R[write to console]: =\n",
            "R[write to console]: =\n",
            "R[write to console]: =\n",
            "R[write to console]: =\n",
            "R[write to console]: =\n",
            "R[write to console]: =\n",
            "R[write to console]: =\n",
            "R[write to console]: =\n",
            "R[write to console]: =\n",
            "R[write to console]: =\n",
            "R[write to console]: =\n",
            "R[write to console]: =\n",
            "R[write to console]: =\n",
            "R[write to console]: =\n",
            "R[write to console]: =\n",
            "R[write to console]: =\n",
            "R[write to console]: =\n",
            "R[write to console]: =\n",
            "R[write to console]: \n",
            "\n",
            "R[write to console]: downloaded 757 KB\n",
            "\n",
            "\n",
            "R[write to console]: \n",
            "\n",
            "R[write to console]: \n",
            "R[write to console]: The downloaded source packages are in\n",
            "\t‘/tmp/Rtmpzhx1ZC/downloaded_packages’\n",
            "R[write to console]: \n",
            "R[write to console]: \n",
            "\n"
          ],
          "name": "stderr"
        }
      ]
    },
    {
      "cell_type": "code",
      "metadata": {
        "colab": {
          "base_uri": "https://localhost:8080/"
        },
        "id": "FSU31xZPv0B6",
        "outputId": "9b90894f-59fb-44e1-b151-f082f8463da7"
      },
      "source": [
        "%%R\n",
        "library(funModeling) \n",
        "library(tidyverse) \n",
        "library(Hmisc)"
      ],
      "execution_count": null,
      "outputs": [
        {
          "output_type": "stream",
          "text": [
            "R[write to console]: Loading required package: Hmisc\n",
            "\n",
            "R[write to console]: Loading required package: lattice\n",
            "\n",
            "R[write to console]: Loading required package: survival\n",
            "\n",
            "R[write to console]: Loading required package: Formula\n",
            "\n",
            "R[write to console]: \n",
            "Attaching package: ‘Hmisc’\n",
            "\n",
            "\n",
            "R[write to console]: The following objects are masked from ‘package:dplyr’:\n",
            "\n",
            "    src, summarize\n",
            "\n",
            "\n",
            "R[write to console]: The following objects are masked from ‘package:base’:\n",
            "\n",
            "    format.pval, units\n",
            "\n",
            "\n",
            "R[write to console]: funModeling v.1.9.4 :)\n",
            "Examples and tutorials at livebook.datascienceheroes.com\n",
            " / Now in Spanish: librovivodecienciadedatos.ai\n",
            "\n"
          ],
          "name": "stderr"
        }
      ]
    },
    {
      "cell_type": "markdown",
      "metadata": {
        "id": "ligVq-E49khG"
      },
      "source": [
        "**loading dataset**"
      ]
    },
    {
      "cell_type": "code",
      "metadata": {
        "colab": {
          "base_uri": "https://localhost:8080/"
        },
        "id": "ZaDOV-DA9kND",
        "outputId": "bc622897-33d6-4007-8431-96b6ae716f5c"
      },
      "source": [
        "%%R\n",
        "df <- read.csv(\"http://bit.ly/EcommerceCustomersDataset\")\n",
        "head(df)\n"
      ],
      "execution_count": null,
      "outputs": [
        {
          "output_type": "stream",
          "text": [
            "  Administrative Administrative_Duration Informational Informational_Duration\n",
            "1              0                       0             0                      0\n",
            "2              0                       0             0                      0\n",
            "3              0                      -1             0                     -1\n",
            "4              0                       0             0                      0\n",
            "5              0                       0             0                      0\n",
            "6              0                       0             0                      0\n",
            "  ProductRelated ProductRelated_Duration BounceRates ExitRates PageValues\n",
            "1              1                0.000000  0.20000000 0.2000000          0\n",
            "2              2               64.000000  0.00000000 0.1000000          0\n",
            "3              1               -1.000000  0.20000000 0.2000000          0\n",
            "4              2                2.666667  0.05000000 0.1400000          0\n",
            "5             10              627.500000  0.02000000 0.0500000          0\n",
            "6             19              154.216667  0.01578947 0.0245614          0\n",
            "  SpecialDay Month OperatingSystems Browser Region TrafficType\n",
            "1          0   Feb                1       1      1           1\n",
            "2          0   Feb                2       2      1           2\n",
            "3          0   Feb                4       1      9           3\n",
            "4          0   Feb                3       2      2           4\n",
            "5          0   Feb                3       3      1           4\n",
            "6          0   Feb                2       2      1           3\n",
            "        VisitorType Weekend Revenue\n",
            "1 Returning_Visitor   FALSE   FALSE\n",
            "2 Returning_Visitor   FALSE   FALSE\n",
            "3 Returning_Visitor   FALSE   FALSE\n",
            "4 Returning_Visitor   FALSE   FALSE\n",
            "5 Returning_Visitor    TRUE   FALSE\n",
            "6 Returning_Visitor   FALSE   FALSE\n"
          ],
          "name": "stdout"
        }
      ]
    },
    {
      "cell_type": "markdown",
      "metadata": {
        "id": "UDLT4dZp-7nd"
      },
      "source": [
        "# Previewing the dataset"
      ]
    },
    {
      "cell_type": "code",
      "metadata": {
        "colab": {
          "base_uri": "https://localhost:8080/"
        },
        "id": "yyK8TXmu_AqY",
        "outputId": "cf197bde-de99-4a10-b3dd-31f55b441baa"
      },
      "source": [
        "#checking for the number of columns in the dataset\n",
        "%%R\n",
        "ncol(df)"
      ],
      "execution_count": null,
      "outputs": [
        {
          "output_type": "stream",
          "text": [
            "[1] 18\n"
          ],
          "name": "stdout"
        }
      ]
    },
    {
      "cell_type": "code",
      "metadata": {
        "colab": {
          "base_uri": "https://localhost:8080/"
        },
        "id": "1kr70I7p_IIK",
        "outputId": "a5cba2f2-d43c-4d0c-fd1e-501994dafad1"
      },
      "source": [
        "#summary of df\n",
        "%%R\n",
        "summary(df)"
      ],
      "execution_count": null,
      "outputs": [
        {
          "output_type": "stream",
          "text": [
            " Administrative   Administrative_Duration Informational   \n",
            " Min.   : 0.000   Min.   :  -1.00         Min.   : 0.000  \n",
            " 1st Qu.: 0.000   1st Qu.:   0.00         1st Qu.: 0.000  \n",
            " Median : 1.000   Median :   8.00         Median : 0.000  \n",
            " Mean   : 2.318   Mean   :  80.91         Mean   : 0.504  \n",
            " 3rd Qu.: 4.000   3rd Qu.:  93.50         3rd Qu.: 0.000  \n",
            " Max.   :27.000   Max.   :3398.75         Max.   :24.000  \n",
            " NA's   :14       NA's   :14              NA's   :14      \n",
            " Informational_Duration ProductRelated   ProductRelated_Duration\n",
            " Min.   :  -1.00        Min.   :  0.00   Min.   :   -1.0        \n",
            " 1st Qu.:   0.00        1st Qu.:  7.00   1st Qu.:  185.0        \n",
            " Median :   0.00        Median : 18.00   Median :  599.8        \n",
            " Mean   :  34.51        Mean   : 31.76   Mean   : 1196.0        \n",
            " 3rd Qu.:   0.00        3rd Qu.: 38.00   3rd Qu.: 1466.5        \n",
            " Max.   :2549.38        Max.   :705.00   Max.   :63973.5        \n",
            " NA's   :14             NA's   :14       NA's   :14             \n",
            "  BounceRates         ExitRates         PageValues        SpecialDay     \n",
            " Min.   :0.000000   Min.   :0.00000   Min.   :  0.000   Min.   :0.00000  \n",
            " 1st Qu.:0.000000   1st Qu.:0.01429   1st Qu.:  0.000   1st Qu.:0.00000  \n",
            " Median :0.003119   Median :0.02512   Median :  0.000   Median :0.00000  \n",
            " Mean   :0.022152   Mean   :0.04300   Mean   :  5.889   Mean   :0.06143  \n",
            " 3rd Qu.:0.016684   3rd Qu.:0.05000   3rd Qu.:  0.000   3rd Qu.:0.00000  \n",
            " Max.   :0.200000   Max.   :0.20000   Max.   :361.764   Max.   :1.00000  \n",
            " NA's   :14         NA's   :14                                           \n",
            "    Month           OperatingSystems    Browser           Region     \n",
            " Length:12330       Min.   :1.000    Min.   : 1.000   Min.   :1.000  \n",
            " Class :character   1st Qu.:2.000    1st Qu.: 2.000   1st Qu.:1.000  \n",
            " Mode  :character   Median :2.000    Median : 2.000   Median :3.000  \n",
            "                    Mean   :2.124    Mean   : 2.357   Mean   :3.147  \n",
            "                    3rd Qu.:3.000    3rd Qu.: 2.000   3rd Qu.:4.000  \n",
            "                    Max.   :8.000    Max.   :13.000   Max.   :9.000  \n",
            "                                                                     \n",
            "  TrafficType    VisitorType         Weekend         Revenue       \n",
            " Min.   : 1.00   Length:12330       Mode :logical   Mode :logical  \n",
            " 1st Qu.: 2.00   Class :character   FALSE:9462      FALSE:10422    \n",
            " Median : 2.00   Mode  :character   TRUE :2868      TRUE :1908     \n",
            " Mean   : 4.07                                                     \n",
            " 3rd Qu.: 4.00                                                     \n",
            " Max.   :20.00                                                     \n",
            "                                                                   \n"
          ],
          "name": "stdout"
        }
      ]
    },
    {
      "cell_type": "code",
      "metadata": {
        "colab": {
          "base_uri": "https://localhost:8080/"
        },
        "id": "mjoQ1eOe_N_p",
        "outputId": "0439b407-6f05-430e-9ca9-57ae0c97f839"
      },
      "source": [
        "#checking for the shape \n",
        "%%R\n",
        "dim(df)"
      ],
      "execution_count": null,
      "outputs": [
        {
          "output_type": "stream",
          "text": [
            "[1] 12330    18\n"
          ],
          "name": "stdout"
        }
      ]
    },
    {
      "cell_type": "markdown",
      "metadata": {
        "id": "lQhH_zUz_SUU"
      },
      "source": [
        "# Data cleaning"
      ]
    },
    {
      "cell_type": "code",
      "metadata": {
        "colab": {
          "base_uri": "https://localhost:8080/"
        },
        "id": "Z499ZUD6_Ux5",
        "outputId": "f4150f7e-8950-4497-ca05-f3b4ebee23f2"
      },
      "source": [
        "##Checking for null values\n",
        "%%R\n",
        "sum(is.na(df))"
      ],
      "execution_count": null,
      "outputs": [
        {
          "output_type": "stream",
          "text": [
            "[1] 112\n"
          ],
          "name": "stdout"
        }
      ]
    },
    {
      "cell_type": "code",
      "metadata": {
        "colab": {
          "base_uri": "https://localhost:8080/"
        },
        "id": "XRaptRIA_xtc",
        "outputId": "a4f451b6-cb43-42d1-ffa4-f481ca617fd2"
      },
      "source": [
        "#removing null values\n",
        "%%R\n",
        "df1 <- na.omit(df)\n",
        "dim(df1)\n",
        "sum(is.na(df1))"
      ],
      "execution_count": null,
      "outputs": [
        {
          "output_type": "stream",
          "text": [
            "[1] 0\n"
          ],
          "name": "stdout"
        }
      ]
    },
    {
      "cell_type": "code",
      "metadata": {
        "colab": {
          "base_uri": "https://localhost:8080/"
        },
        "id": "w8QJ7-h1AKFE",
        "outputId": "f20ea497-83f3-4310-d283-1c9516d5cf50"
      },
      "source": [
        "#checking for duplicates\n",
        "%%R\n",
        "sum(duplicated(df1))\n",
        "#removing duplicates\n",
        "df2 <- unique(df1)\n",
        "sum(duplicated(df2))\n",
        "dim(df2)\n",
        "\n"
      ],
      "execution_count": null,
      "outputs": [
        {
          "output_type": "stream",
          "text": [
            "[1] 12199    18\n"
          ],
          "name": "stdout"
        }
      ]
    },
    {
      "cell_type": "markdown",
      "metadata": {
        "id": "2fvORb6qCXkb"
      },
      "source": [
        ""
      ]
    },
    {
      "cell_type": "code",
      "metadata": {
        "colab": {
          "base_uri": "https://localhost:8080/"
        },
        "id": "dO5umQuXCZQM",
        "outputId": "6ea2f19c-b0bd-4322-e6b4-921af4bb0822"
      },
      "source": [
        "#checking for outliers\n",
        "%%R\n",
        "boxplot.stats(df2$BounceRates)$out"
      ],
      "execution_count": null,
      "outputs": [
        {
          "output_type": "stream",
          "text": [
            "   [1] 0.20000000 0.20000000 0.05000000 0.20000000 0.20000000 0.20000000\n",
            "   [7] 0.20000000 0.20000000 0.05000000 0.04347826 0.06666667 0.20000000\n",
            "  [13] 0.20000000 0.05000000 0.20000000 0.20000000 0.05000000 0.20000000\n",
            "  [19] 0.20000000 0.20000000 0.20000000 0.20000000 0.20000000 0.20000000\n",
            "  [25] 0.20000000 0.05714286 0.20000000 0.05000000 0.15000000 0.04444444\n",
            "  [31] 0.05000000 0.05000000 0.20000000 0.20000000 0.20000000 0.13333333\n",
            "  [37] 0.20000000 0.05000000 0.20000000 0.20000000 0.06666667 0.20000000\n",
            "  [43] 0.10000000 0.20000000 0.20000000 0.08666667 0.06666667 0.20000000\n",
            "  [49] 0.20000000 0.20000000 0.20000000 0.08000000 0.10000000 0.20000000\n",
            "  [55] 0.08000000 0.20000000 0.20000000 0.20000000 0.20000000 0.20000000\n",
            "  [61] 0.20000000 0.05000000 0.20000000 0.20000000 0.10000000 0.20000000\n",
            "  [67] 0.20000000 0.20000000 0.06666667 0.06666667 0.20000000 0.05714286\n",
            "  [73] 0.20000000 0.20000000 0.20000000 0.20000000 0.07500000 0.20000000\n",
            "  [79] 0.20000000 0.07777778 0.06666667 0.20000000 0.05000000 0.20000000\n",
            "  [85] 0.20000000 0.20000000 0.06666667 0.20000000 0.20000000 0.20000000\n",
            "  [91] 0.04545454 0.13333333 0.06666667 0.10000000 0.20000000 0.05555556\n",
            "  [97] 0.20000000 0.20000000 0.08571429 0.04444444 0.06666667 0.05000000\n",
            " [103] 0.20000000 0.20000000 0.20000000 0.20000000 0.20000000 0.06153846\n",
            " [109] 0.20000000 0.20000000 0.20000000 0.06428571 0.20000000 0.05000000\n",
            " [115] 0.10000000 0.20000000 0.10000000 0.05714286 0.20000000 0.20000000\n",
            " [121] 0.20000000 0.20000000 0.20000000 0.20000000 0.05000000 0.20000000\n",
            " [127] 0.20000000 0.20000000 0.20000000 0.05000000 0.05714286 0.06666667\n",
            " [133] 0.20000000 0.06666667 0.20000000 0.04444444 0.08333333 0.10000000\n",
            " [139] 0.20000000 0.20000000 0.20000000 0.20000000 0.20000000 0.05000000\n",
            " [145] 0.10000000 0.20000000 0.20000000 0.20000000 0.05000000 0.05714286\n",
            " [151] 0.20000000 0.10000000 0.20000000 0.20000000 0.04583333 0.14666667\n",
            " [157] 0.10000000 0.12000000 0.05000000 0.04545454 0.20000000 0.16190476\n",
            " [163] 0.20000000 0.10000000 0.06666667 0.20000000 0.20000000 0.10000000\n",
            " [169] 0.10000000 0.10000000 0.20000000 0.05555556 0.05000000 0.05714286\n",
            " [175] 0.06666667 0.20000000 0.12000000 0.20000000 0.20000000 0.05714286\n",
            " [181] 0.20000000 0.20000000 0.05000000 0.20000000 0.04285714 0.20000000\n",
            " [187] 0.07500000 0.10000000 0.04285714 0.20000000 0.06000000 0.10000000\n",
            " [193] 0.10000000 0.08000000 0.06666667 0.10000000 0.20000000 0.06666667\n",
            " [199] 0.06923077 0.20000000 0.10000000 0.04615385 0.06000000 0.05000000\n",
            " [205] 0.05000000 0.06000000 0.10000000 0.20000000 0.20000000 0.20000000\n",
            " [211] 0.14000000 0.20000000 0.10000000 0.20000000 0.04705882 0.06666667\n",
            " [217] 0.20000000 0.04285714 0.06666667 0.05000000 0.20000000 0.07142857\n",
            " [223] 0.20000000 0.20000000 0.15000000 0.05714286 0.20000000 0.05000000\n",
            " [229] 0.20000000 0.15555556 0.20000000 0.20000000 0.06666667 0.20000000\n",
            " [235] 0.20000000 0.08333333 0.20000000 0.08571429 0.07210884 0.06250000\n",
            " [241] 0.13333333 0.20000000 0.20000000 0.13333333 0.06666667 0.20000000\n",
            " [247] 0.07058823 0.20000000 0.06666667 0.04444444 0.20000000 0.10000000\n",
            " [253] 0.05000000 0.20000000 0.08333333 0.20000000 0.10000000 0.07500000\n",
            " [259] 0.05000000 0.20000000 0.13125000 0.20000000 0.20000000 0.20000000\n",
            " [265] 0.20000000 0.16428571 0.04214559 0.20000000 0.20000000 0.20000000\n",
            " [271] 0.08888889 0.20000000 0.06363636 0.06666667 0.20000000 0.20000000\n",
            " [277] 0.10000000 0.20000000 0.10000000 0.20000000 0.20000000 0.08000000\n",
            " [283] 0.20000000 0.16000000 0.20000000 0.06666667 0.20000000 0.04444444\n",
            " [289] 0.04948148 0.20000000 0.20000000 0.20000000 0.20000000 0.08666667\n",
            " [295] 0.20000000 0.20000000 0.06666667 0.08000000 0.06666667 0.12000000\n",
            " [301] 0.20000000 0.05000000 0.05000000 0.05000000 0.10000000 0.12000000\n",
            " [307] 0.04210526 0.05396825 0.20000000 0.05333333 0.20000000 0.20000000\n",
            " [313] 0.11538461 0.04444444 0.06666667 0.20000000 0.20000000 0.14285714\n",
            " [319] 0.20000000 0.09333333 0.20000000 0.05714286 0.20000000 0.20000000\n",
            " [325] 0.06000000 0.06428571 0.15000000 0.05000000 0.13333333 0.10000000\n",
            " [331] 0.10000000 0.05000000 0.20000000 0.20000000 0.05000000 0.11428571\n",
            " [337] 0.20000000 0.10000000 0.20000000 0.08695652 0.20000000 0.15000000\n",
            " [343] 0.20000000 0.13333333 0.20000000 0.20000000 0.12000000 0.20000000\n",
            " [349] 0.20000000 0.20000000 0.05714286 0.07894737 0.10000000 0.05555556\n",
            " [355] 0.20000000 0.04259259 0.12222222 0.20000000 0.05000000 0.12000000\n",
            " [361] 0.20000000 0.20000000 0.10000000 0.05454545 0.20000000 0.20000000\n",
            " [367] 0.14000000 0.12000000 0.10000000 0.06666667 0.11111111 0.06666667\n",
            " [373] 0.10000000 0.20000000 0.20000000 0.10000000 0.04615385 0.05333333\n",
            " [379] 0.20000000 0.20000000 0.05000000 0.10000000 0.05333333 0.20000000\n",
            " [385] 0.05600000 0.05138889 0.08421053 0.07500000 0.20000000 0.06666667\n",
            " [391] 0.06666667 0.20000000 0.06857143 0.20000000 0.04761905 0.04747944\n",
            " [397] 0.05000000 0.04444444 0.10526316 0.20000000 0.06666667 0.04400000\n",
            " [403] 0.05454545 0.20000000 0.10000000 0.05119048 0.06000000 0.20000000\n",
            " [409] 0.06666667 0.08750000 0.04761905 0.20000000 0.05000000 0.18333333\n",
            " [415] 0.20000000 0.05555556 0.05000000 0.04444444 0.04285714 0.04761905\n",
            " [421] 0.06666667 0.05000000 0.06666667 0.20000000 0.10000000 0.20000000\n",
            " [427] 0.12000000 0.04255319 0.04375000 0.20000000 0.20000000 0.20000000\n",
            " [433] 0.20000000 0.20000000 0.08333333 0.20000000 0.10000000 0.20000000\n",
            " [439] 0.13333333 0.06666667 0.04888889 0.06666667 0.20000000 0.20000000\n",
            " [445] 0.06645963 0.06666667 0.20000000 0.20000000 0.05000000 0.08571429\n",
            " [451] 0.06666667 0.20000000 0.20000000 0.06666667 0.20000000 0.06666667\n",
            " [457] 0.20000000 0.04347826 0.08000000 0.10000000 0.07500000 0.16666667\n",
            " [463] 0.20000000 0.04473684 0.04285714 0.07567568 0.12000000 0.05000000\n",
            " [469] 0.20000000 0.05333333 0.20000000 0.04285714 0.20000000 0.20000000\n",
            " [475] 0.04184397 0.07500000 0.05000000 0.05000000 0.05333333 0.20000000\n",
            " [481] 0.08000000 0.08333333 0.04252874 0.07272727 0.12222222 0.20000000\n",
            " [487] 0.04615385 0.08000000 0.04444444 0.20000000 0.20000000 0.13333333\n",
            " [493] 0.10000000 0.06666667 0.08571429 0.07407407 0.07777778 0.20000000\n",
            " [499] 0.12500000 0.10000000 0.20000000 0.04761905 0.04444444 0.10000000\n",
            " [505] 0.10000000 0.12000000 0.20000000 0.09285714 0.13333333 0.09259259\n",
            " [511] 0.06666667 0.05357143 0.04444444 0.05714286 0.04285714 0.09047619\n",
            " [517] 0.06666667 0.20000000 0.04347826 0.05238095 0.05000000 0.16000000\n",
            " [523] 0.20000000 0.14285714 0.06666667 0.04535647 0.14285714 0.15000000\n",
            " [529] 0.20000000 0.04705882 0.20000000 0.05000000 0.06666667 0.04523809\n",
            " [535] 0.05454545 0.20000000 0.20000000 0.10000000 0.08000000 0.20000000\n",
            " [541] 0.20000000 0.20000000 0.20000000 0.11428571 0.04285714 0.04777778\n",
            " [547] 0.20000000 0.15555556 0.20000000 0.04696970 0.13333333 0.20000000\n",
            " [553] 0.06538461 0.20000000 0.06666667 0.04444444 0.08000000 0.06666667\n",
            " [559] 0.20000000 0.20000000 0.05666667 0.06666667 0.05000000 0.20000000\n",
            " [565] 0.06666667 0.06250000 0.20000000 0.06666667 0.20000000 0.06666667\n",
            " [571] 0.05555556 0.15000000 0.20000000 0.17692308 0.20000000 0.20000000\n",
            " [577] 0.11428571 0.05333333 0.06666667 0.06666667 0.20000000 0.20000000\n",
            " [583] 0.08333333 0.04800000 0.06666667 0.07500000 0.08421053 0.15555556\n",
            " [589] 0.05000000 0.04444444 0.05000000 0.20000000 0.12000000 0.20000000\n",
            " [595] 0.08571429 0.20000000 0.04285714 0.07352941 0.12000000 0.15000000\n",
            " [601] 0.06666667 0.20000000 0.20000000 0.06842105 0.11111111 0.06065574\n",
            " [607] 0.04615385 0.05000000 0.04210526 0.04444444 0.20000000 0.20000000\n",
            " [613] 0.04597701 0.20000000 0.07777778 0.07500000 0.20000000 0.20000000\n",
            " [619] 0.08000000 0.20000000 0.20000000 0.07058823 0.05000000 0.20000000\n",
            " [625] 0.04931818 0.11111111 0.05714286 0.05000000 0.20000000 0.04285714\n",
            " [631] 0.10000000 0.06666667 0.14285714 0.10000000 0.08235294 0.06666667\n",
            " [637] 0.05000000 0.06666667 0.06250000 0.07741935 0.08735632 0.04375000\n",
            " [643] 0.20000000 0.06622641 0.05000000 0.06428571 0.08125000 0.13333333\n",
            " [649] 0.12000000 0.05000000 0.08000000 0.10000000 0.06666667 0.06666667\n",
            " [655] 0.20000000 0.04629630 0.08888889 0.04833333 0.05238095 0.08000000\n",
            " [661] 0.10000000 0.05862069 0.20000000 0.20000000 0.20000000 0.10000000\n",
            " [667] 0.05714286 0.06428571 0.20000000 0.20000000 0.10000000 0.20000000\n",
            " [673] 0.10000000 0.11428571 0.20000000 0.13333333 0.09000000 0.20000000\n",
            " [679] 0.06666667 0.07500000 0.10000000 0.08000000 0.10000000 0.06666667\n",
            " [685] 0.06666667 0.10000000 0.20000000 0.04333333 0.20000000 0.06666667\n",
            " [691] 0.04722222 0.06666667 0.04444444 0.05625000 0.20000000 0.20000000\n",
            " [697] 0.05600000 0.06666667 0.20000000 0.20000000 0.07692308 0.15000000\n",
            " [703] 0.20000000 0.20000000 0.20000000 0.20000000 0.20000000 0.10000000\n",
            " [709] 0.05000000 0.04545454 0.20000000 0.05000000 0.10000000 0.20000000\n",
            " [715] 0.06666667 0.04800000 0.20000000 0.07500000 0.15000000 0.20000000\n",
            " [721] 0.13333333 0.05000000 0.20000000 0.20000000 0.20000000 0.04705882\n",
            " [727] 0.20000000 0.05000000 0.10000000 0.20000000 0.10000000 0.07500000\n",
            " [733] 0.04210526 0.05000000 0.10000000 0.20000000 0.07142857 0.06000000\n",
            " [739] 0.15000000 0.04208333 0.20000000 0.20000000 0.20000000 0.06666667\n",
            " [745] 0.08000000 0.06666667 0.10416667 0.05000000 0.13333333 0.06666667\n",
            " [751] 0.05000000 0.08000000 0.20000000 0.12500000 0.09166667 0.07500000\n",
            " [757] 0.04375000 0.10000000 0.05952381 0.10000000 0.20000000 0.20000000\n",
            " [763] 0.06666667 0.13333333 0.07777778 0.06666667 0.05000000 0.05238095\n",
            " [769] 0.06250000 0.04444444 0.04210526 0.06666667 0.20000000 0.20000000\n",
            " [775] 0.04444444 0.08000000 0.06111111 0.04444444 0.06666667 0.20000000\n",
            " [781] 0.04530744 0.20000000 0.06000000 0.05335546 0.05000000 0.12000000\n",
            " [787] 0.05000000 0.04781874 0.20000000 0.05714286 0.07407407 0.05714286\n",
            " [793] 0.18000000 0.10909091 0.05090909 0.06666667 0.20000000 0.20000000\n",
            " [799] 0.05000000 0.05000000 0.20000000 0.11428571 0.14666667 0.08571429\n",
            " [805] 0.13333333 0.04777778 0.18000000 0.05625000 0.20000000 0.04621212\n",
            " [811] 0.06842105 0.18000000 0.06666667 0.20000000 0.05909091 0.05185185\n",
            " [817] 0.10000000 0.07413793 0.07441860 0.04500000 0.08000000 0.07927928\n",
            " [823] 0.04666667 0.20000000 0.06666667 0.04266667 0.20000000 0.10000000\n",
            " [829] 0.05000000 0.06666667 0.06666667 0.05714286 0.20000000 0.05000000\n",
            " [835] 0.07500000 0.06041667 0.20000000 0.12162162 0.05320513 0.20000000\n",
            " [841] 0.20000000 0.05000000 0.05780142 0.10000000 0.11250000 0.06666667\n",
            " [847] 0.05000000 0.20000000 0.20000000 0.13333333 0.07142857 0.10000000\n",
            " [853] 0.12727273 0.05714286 0.05225225 0.08571429 0.06851852 0.08461539\n",
            " [859] 0.12500000 0.20000000 0.05000000 0.06666667 0.06666667 0.08333333\n",
            " [865] 0.04444444 0.20000000 0.20000000 0.05000000 0.15000000 0.05614035\n",
            " [871] 0.20000000 0.10000000 0.07500000 0.05256410 0.20000000 0.06222222\n",
            " [877] 0.05000000 0.20000000 0.04194529 0.05454545 0.05833333 0.05000000\n",
            " [883] 0.04444444 0.20000000 0.06666667 0.11111111 0.10114943 0.05294118\n",
            " [889] 0.05333333 0.20000000 0.04444444 0.20000000 0.20000000 0.10000000\n",
            " [895] 0.06829268 0.12222222 0.20000000 0.06274510 0.05892857 0.09090909\n",
            " [901] 0.20000000 0.20000000 0.20000000 0.12500000 0.08571429 0.20000000\n",
            " [907] 0.10000000 0.20000000 0.12000000 0.08750000 0.20000000 0.07083333\n",
            " [913] 0.04318182 0.20000000 0.05428571 0.20000000 0.07222222 0.07477478\n",
            " [919] 0.06666667 0.04444444 0.06666667 0.20000000 0.05000000 0.20000000\n",
            " [925] 0.04814815 0.08571429 0.06666667 0.04444444 0.05000000 0.20000000\n",
            " [931] 0.04404762 0.08000000 0.06190476 0.05882353 0.04285714 0.09090909\n",
            " [937] 0.05000000 0.05000000 0.20000000 0.20000000 0.05454545 0.20000000\n",
            " [943] 0.20000000 0.18000000 0.05517241 0.20000000 0.20000000 0.20000000\n",
            " [949] 0.20000000 0.05714286 0.05000000 0.20000000 0.20000000 0.05500000\n",
            " [955] 0.04691358 0.05833333 0.16423077 0.05606061 0.20000000 0.06956522\n",
            " [961] 0.20000000 0.20000000 0.20000000 0.05333333 0.20000000 0.04500000\n",
            " [967] 0.05179739 0.20000000 0.20000000 0.20000000 0.04222222 0.06111111\n",
            " [973] 0.04285714 0.06092593 0.05964912 0.04444444 0.06666667 0.20000000\n",
            " [979] 0.05333333 0.06666667 0.20000000 0.20000000 0.20000000 0.05787037\n",
            " [985] 0.20000000 0.05000000 0.20000000 0.06538461 0.06666667 0.20000000\n",
            " [991] 0.11000000 0.20000000 0.20000000 0.06149425 0.07142857 0.20000000\n",
            " [997] 0.08083779 0.13846154 0.10000000 0.20000000 0.10000000 0.10769231\n",
            "[1003] 0.05906433 0.20000000 0.20000000 0.20000000 0.04761905 0.06666667\n",
            "[1009] 0.06666667 0.10000000 0.20000000 0.10000000 0.04285714 0.05000000\n",
            "[1015] 0.20000000 0.20000000 0.06500000 0.15000000 0.09032258 0.05000000\n",
            "[1021] 0.20000000 0.05000000 0.16666667 0.12000000 0.20000000 0.20000000\n",
            "[1027] 0.05238095 0.16000000 0.20000000 0.20000000 0.10000000 0.20000000\n",
            "[1033] 0.20000000 0.20000000 0.11071429 0.20000000 0.05454545 0.12592593\n",
            "[1039] 0.06666667 0.20000000 0.06250000 0.04615385 0.18000000 0.20000000\n",
            "[1045] 0.20000000 0.20000000 0.20000000 0.05333333 0.07500000 0.20000000\n",
            "[1051] 0.20000000 0.08571429 0.07500000 0.06666667 0.20000000 0.20000000\n",
            "[1057] 0.20000000 0.20000000 0.20000000 0.04444444 0.05185185 0.20000000\n",
            "[1063] 0.08000000 0.20000000 0.06666667 0.09583333 0.20000000 0.20000000\n",
            "[1069] 0.06666667 0.20000000 0.20000000 0.06666667 0.20000000 0.04761905\n",
            "[1075] 0.06666667 0.06000000 0.20000000 0.20000000 0.16666667 0.05641026\n",
            "[1081] 0.05000000 0.20000000 0.20000000 0.20000000 0.20000000 0.20000000\n",
            "[1087] 0.04375000 0.20000000 0.20000000 0.20000000 0.05454545 0.04444444\n",
            "[1093] 0.05454545 0.20000000 0.20000000 0.12000000 0.10000000 0.10000000\n",
            "[1099] 0.20000000 0.20000000 0.11000000 0.06666667 0.07337662 0.20000000\n",
            "[1105] 0.08000000 0.20000000 0.04761905 0.20000000 0.20000000 0.06666667\n",
            "[1111] 0.20000000 0.20000000 0.05714286 0.10000000 0.20000000 0.20000000\n",
            "[1117] 0.20000000 0.20000000 0.20000000 0.06666667 0.20000000 0.06666667\n",
            "[1123] 0.20000000 0.20000000 0.20000000 0.20000000 0.20000000 0.20000000\n",
            "[1129] 0.20000000 0.20000000 0.04375000 0.20000000 0.20000000 0.08000000\n",
            "[1135] 0.08333333 0.20000000 0.04385185 0.06666667 0.05000000 0.10000000\n",
            "[1141] 0.05357143 0.20000000 0.20000000 0.04375000 0.05000000 0.20000000\n",
            "[1147] 0.08333333 0.07000000 0.15000000 0.05000000 0.06666667 0.20000000\n",
            "[1153] 0.05000000 0.04416667 0.20000000 0.20000000 0.05000000 0.20000000\n",
            "[1159] 0.10000000 0.20000000 0.06666667 0.05000000 0.20000000 0.20000000\n",
            "[1165] 0.05000000 0.20000000 0.20000000 0.20000000 0.06666667 0.05833333\n",
            "[1171] 0.20000000 0.20000000 0.08333333 0.20000000 0.20000000 0.05000000\n",
            "[1177] 0.08888889 0.05714286 0.08888889 0.04761905 0.20000000 0.05000000\n",
            "[1183] 0.20000000 0.20000000 0.10000000 0.20000000 0.20000000 0.13333333\n",
            "[1189] 0.10000000 0.20000000 0.17500000 0.20000000 0.05714286 0.04705882\n",
            "[1195] 0.20000000 0.10000000 0.06666667 0.20000000 0.06666667 0.20000000\n",
            "[1201] 0.05000000 0.20000000 0.20000000 0.20000000 0.05238095 0.20000000\n",
            "[1207] 0.06666667 0.05000000 0.20000000 0.20000000 0.10000000 0.20000000\n",
            "[1213] 0.20000000 0.05128205 0.08571429 0.10000000 0.12000000 0.20000000\n",
            "[1219] 0.20000000 0.05855072 0.08214286 0.05833333 0.20000000 0.08888889\n",
            "[1225] 0.20000000 0.20000000 0.10000000 0.20000000 0.20000000 0.06666667\n",
            "[1231] 0.20000000 0.20000000 0.10000000 0.20000000 0.05000000 0.10000000\n",
            "[1237] 0.20000000 0.08333333 0.20000000 0.04545454 0.20000000 0.10000000\n",
            "[1243] 0.20000000 0.07142857 0.20000000 0.04705882 0.05000000 0.20000000\n",
            "[1249] 0.05000000 0.20000000 0.20000000 0.10000000 0.06363636 0.08571429\n",
            "[1255] 0.15000000 0.20000000 0.20000000 0.11428571 0.16666667 0.20000000\n",
            "[1261] 0.04818182 0.20000000 0.20000000 0.06666667 0.08333333 0.06666667\n",
            "[1267] 0.04444444 0.05000000 0.07500000 0.20000000 0.20000000 0.20000000\n",
            "[1273] 0.20000000 0.06666667 0.20000000 0.20000000 0.10000000 0.06666667\n",
            "[1279] 0.05000000 0.20000000 0.20000000 0.20000000 0.10000000 0.06666667\n",
            "[1285] 0.06666667 0.05000000 0.06666667 0.20000000 0.20000000 0.12000000\n",
            "[1291] 0.06666667 0.20000000 0.06666667 0.20000000 0.20000000 0.20000000\n",
            "[1297] 0.06666667 0.20000000 0.20000000 0.06000000 0.20000000 0.05000000\n",
            "[1303] 0.04444444 0.20000000 0.20000000 0.20000000 0.12142857 0.04285714\n",
            "[1309] 0.20000000 0.06666667 0.04705882 0.20000000 0.20000000 0.20000000\n",
            "[1315] 0.20000000 0.20000000 0.09545455 0.04482759 0.08250000 0.06666667\n",
            "[1321] 0.20000000 0.20000000 0.20000000 0.20000000 0.20000000 0.20000000\n",
            "[1327] 0.20000000 0.06000000 0.20000000 0.05714286 0.20000000 0.20000000\n",
            "[1333] 0.20000000 0.15000000 0.10000000 0.20000000 0.10000000 0.20000000\n",
            "[1339] 0.10000000 0.20000000 0.20000000 0.20000000 0.05000000 0.20000000\n",
            "[1345] 0.20000000 0.20000000 0.06666667 0.05000000 0.20000000 0.06666667\n",
            "[1351] 0.08000000 0.05000000 0.20000000 0.20000000 0.20000000 0.05625000\n",
            "[1357] 0.10000000 0.20000000 0.05714286 0.06666667 0.05000000 0.20000000\n",
            "[1363] 0.06666667 0.04615385 0.08571429 0.06666667 0.10000000 0.20000000\n",
            "[1369] 0.20000000 0.05000000 0.05000000 0.06666667 0.20000000 0.20000000\n",
            "[1375] 0.20000000 0.20000000 0.05925926 0.20000000 0.06666667 0.06666667\n",
            "[1381] 0.20000000 0.12000000 0.06666667 0.20000000 0.04285714 0.20000000\n",
            "[1387] 0.20000000 0.05000000 0.09090909 0.20000000 0.05454545 0.06000000\n",
            "[1393] 0.06666667 0.20000000 0.20000000 0.10000000 0.07500000 0.05000000\n",
            "[1399] 0.10000000 0.05000000 0.20000000 0.20000000 0.20000000 0.20000000\n",
            "[1405] 0.20000000 0.06666667 0.20000000 0.06666667 0.05000000 0.20000000\n",
            "[1411] 0.20000000 0.14000000 0.20000000 0.05714286 0.05000000 0.05000000\n",
            "[1417] 0.06666667 0.20000000 0.20000000 0.05818182 0.04615385 0.20000000\n",
            "[1423] 0.20000000 0.20000000 0.06666667 0.04761905 0.08000000 0.07500000\n",
            "[1429] 0.20000000 0.20000000 0.08333333\n"
          ],
          "name": "stdout"
        }
      ]
    },
    {
      "cell_type": "code",
      "metadata": {
        "id": "BYcqxpZJDnKG"
      },
      "source": [
        "%%R\n",
        "outliers <- boxplot(df2$BounceRates, plot=FALSE)$out"
      ],
      "execution_count": null,
      "outputs": []
    },
    {
      "cell_type": "code",
      "metadata": {
        "colab": {
          "base_uri": "https://localhost:8080/"
        },
        "id": "unpfFhBZD-mr",
        "outputId": "0c52ca06-cb7c-49f3-8de0-aed2bceef0fe"
      },
      "source": [
        "%%R\n",
        "x<-df2 \n",
        "xl <- x[-which(x$BounceRates %in% outliers),]\n",
        "head(xl)"
      ],
      "execution_count": null,
      "outputs": [
        {
          "output_type": "stream",
          "text": [
            "   Administrative Administrative_Duration Informational Informational_Duration\n",
            "2               0                       0             0                      0\n",
            "5               0                       0             0                      0\n",
            "6               0                       0             0                      0\n",
            "9               0                       0             0                      0\n",
            "10              0                       0             0                      0\n",
            "11              0                       0             0                      0\n",
            "   ProductRelated ProductRelated_Duration BounceRates  ExitRates PageValues\n",
            "2               2                 64.0000  0.00000000 0.10000000          0\n",
            "5              10                627.5000  0.02000000 0.05000000          0\n",
            "6              19                154.2167  0.01578947 0.02456140          0\n",
            "9               2                 37.0000  0.00000000 0.10000000          0\n",
            "10              3                738.0000  0.00000000 0.02222222          0\n",
            "11              3                395.0000  0.00000000 0.06666667          0\n",
            "   SpecialDay Month OperatingSystems Browser Region TrafficType\n",
            "2         0.0   Feb                2       2      1           2\n",
            "5         0.0   Feb                3       3      1           4\n",
            "6         0.0   Feb                2       2      1           3\n",
            "9         0.8   Feb                2       2      2           3\n",
            "10        0.4   Feb                2       4      1           2\n",
            "11        0.0   Feb                1       1      3           3\n",
            "         VisitorType Weekend Revenue\n",
            "2  Returning_Visitor   FALSE   FALSE\n",
            "5  Returning_Visitor    TRUE   FALSE\n",
            "6  Returning_Visitor   FALSE   FALSE\n",
            "9  Returning_Visitor   FALSE   FALSE\n",
            "10 Returning_Visitor   FALSE   FALSE\n",
            "11 Returning_Visitor   FALSE   FALSE\n"
          ],
          "name": "stdout"
        }
      ]
    },
    {
      "cell_type": "code",
      "metadata": {
        "colab": {
          "base_uri": "https://localhost:8080/",
          "height": 497
        },
        "id": "6I3Wexa3ExSa",
        "outputId": "01bed5d8-9037-4c14-8984-fafb630f04a1"
      },
      "source": [
        "%%R\n",
        "boxplot(df2$BounceRates,\n",
        "  ylab = \"int.usage\",main=\"internet usage\"\n",
        ")\n",
        "#before removing outliers"
      ],
      "execution_count": null,
      "outputs": [
        {
          "output_type": "display_data",
          "data": {
            "image/png": "[encoded data removed]"
          },
          "metadata": {
            "tags": []
          }
        }
      ]
    },
    {
      "cell_type": "code",
      "metadata": {
        "colab": {
          "base_uri": "https://localhost:8080/"
        },
        "id": "fRQilcM9FKwQ",
        "outputId": "5291bdd2-8bec-4587-87a1-9cba4445b41e"
      },
      "source": [
        "%%R\n",
        "#shape after removal of outliers\n",
        "dim(xl)"
      ],
      "execution_count": null,
      "outputs": [
        {
          "output_type": "stream",
          "text": [
            "[1] 10768    18\n"
          ],
          "name": "stdout"
        }
      ]
    },
    {
      "cell_type": "markdown",
      "metadata": {
        "id": "e8BPSRr7FsZm"
      },
      "source": [
        "# Univariate analysis"
      ]
    },
    {
      "cell_type": "markdown",
      "metadata": {
        "id": "ntqgHprHGu0I"
      },
      "source": [
        "**measures of central tendancy**"
      ]
    },
    {
      "cell_type": "code",
      "metadata": {
        "colab": {
          "base_uri": "https://localhost:8080/"
        },
        "id": "9RUhk5ivFwUG",
        "outputId": "62331f32-7172-4c32-d438-263d55187b03"
      },
      "source": [
        "%%R\n",
        "df3=xl\n",
        "#finding the mean of bounce rates\n",
        "bounce.mean <- mean(df3$BounceRates)\n",
        "bounce.mean\n",
        "\n"
      ],
      "execution_count": null,
      "outputs": [
        {
          "output_type": "stream",
          "text": [
            "[1] 0.00644852\n"
          ],
          "name": "stdout"
        }
      ]
    },
    {
      "cell_type": "code",
      "metadata": {
        "colab": {
          "base_uri": "https://localhost:8080/"
        },
        "id": "bQfMrCvlGZaG",
        "outputId": "b11c1cae-59b4-46eb-a3a0-5dd58388373d"
      },
      "source": [
        "%%R\n",
        "head(df3)"
      ],
      "execution_count": null,
      "outputs": [
        {
          "output_type": "stream",
          "text": [
            "   Administrative Administrative_Duration Informational Informational_Duration\n",
            "2               0                       0             0                      0\n",
            "5               0                       0             0                      0\n",
            "6               0                       0             0                      0\n",
            "9               0                       0             0                      0\n",
            "10              0                       0             0                      0\n",
            "11              0                       0             0                      0\n",
            "   ProductRelated ProductRelated_Duration BounceRates  ExitRates PageValues\n",
            "2               2                 64.0000  0.00000000 0.10000000          0\n",
            "5              10                627.5000  0.02000000 0.05000000          0\n",
            "6              19                154.2167  0.01578947 0.02456140          0\n",
            "9               2                 37.0000  0.00000000 0.10000000          0\n",
            "10              3                738.0000  0.00000000 0.02222222          0\n",
            "11              3                395.0000  0.00000000 0.06666667          0\n",
            "   SpecialDay Month OperatingSystems Browser Region TrafficType\n",
            "2         0.0   Feb                2       2      1           2\n",
            "5         0.0   Feb                3       3      1           4\n",
            "6         0.0   Feb                2       2      1           3\n",
            "9         0.8   Feb                2       2      2           3\n",
            "10        0.4   Feb                2       4      1           2\n",
            "11        0.0   Feb                1       1      3           3\n",
            "         VisitorType Weekend Revenue\n",
            "2  Returning_Visitor   FALSE   FALSE\n",
            "5  Returning_Visitor    TRUE   FALSE\n",
            "6  Returning_Visitor   FALSE   FALSE\n",
            "9  Returning_Visitor   FALSE   FALSE\n",
            "10 Returning_Visitor   FALSE   FALSE\n",
            "11 Returning_Visitor   FALSE   FALSE\n"
          ],
          "name": "stdout"
        }
      ]
    },
    {
      "cell_type": "code",
      "metadata": {
        "colab": {
          "base_uri": "https://localhost:8080/"
        },
        "id": "CWrbO7vYGXFT",
        "outputId": "31f5691f-9584-40df-84d8-61cec6c99484"
      },
      "source": [
        "%%R\n",
        "#Finding the median\n",
        "exit.median <- median(df3$ExitRates)\n",
        "exit.median"
      ],
      "execution_count": null,
      "outputs": [
        {
          "output_type": "stream",
          "text": [
            "[1] 0.02222222\n"
          ],
          "name": "stdout"
        }
      ]
    },
    {
      "cell_type": "markdown",
      "metadata": {
        "id": "jga2hEg5G5kZ"
      },
      "source": [
        "**Measures of dispersion**"
      ]
    },
    {
      "cell_type": "code",
      "metadata": {
        "colab": {
          "base_uri": "https://localhost:8080/"
        },
        "id": "jje50lzeG_Dn",
        "outputId": "9a99ce8e-d82a-4edf-a831-a157ea997e6c"
      },
      "source": [
        "%%R\n",
        "#Finding the minimum element of product related duration\n",
        "dur.min <- min(df3$ProductRelated_Duration)\n",
        "dur.min"
      ],
      "execution_count": null,
      "outputs": [
        {
          "output_type": "stream",
          "text": [
            "[1] -1\n"
          ],
          "name": "stdout"
        }
      ]
    },
    {
      "cell_type": "code",
      "metadata": {
        "colab": {
          "base_uri": "https://localhost:8080/"
        },
        "id": "hR4rucKWHYD1",
        "outputId": "1cd75279-4e7e-4eff-f2ca-f6c328c3d8ef"
      },
      "source": [
        "%%R\n",
        "#Finding the maximum element of product related duration\n",
        "dur.max <- max(df3$ProductRelated_Duration)\n",
        "dur.max\n"
      ],
      "execution_count": null,
      "outputs": [
        {
          "output_type": "stream",
          "text": [
            "[1] 63973.52\n"
          ],
          "name": "stdout"
        }
      ]
    },
    {
      "cell_type": "code",
      "metadata": {
        "colab": {
          "base_uri": "https://localhost:8080/"
        },
        "id": "4u1iyG8DHw2Z",
        "outputId": "8c4eadbc-b248-4e09-ff73-74370a1a1cfb"
      },
      "source": [
        "%%R\n",
        "#Finding range\n",
        "dur.range <- range(df3$ProductRelated_Duration)\n",
        "dur.range"
      ],
      "execution_count": null,
      "outputs": [
        {
          "output_type": "stream",
          "text": [
            "[1]    -1.00 63973.52\n"
          ],
          "name": "stdout"
        }
      ]
    },
    {
      "cell_type": "code",
      "metadata": {
        "colab": {
          "base_uri": "https://localhost:8080/"
        },
        "id": "GnlU7ID_IFtQ",
        "outputId": "5128fb32-4c6c-4e91-daf2-a5b7748e14bc"
      },
      "source": [
        "%%R\n",
        "#checking the interquatile range of exit rates\n",
        "exit <- quantile(df3$ExitRates)\n",
        "exit"
      ],
      "execution_count": null,
      "outputs": [
        {
          "output_type": "stream",
          "text": [
            "        0%        25%        50%        75%       100% \n",
            "0.00000000 0.01276403 0.02222222 0.03730521 0.20000000 \n"
          ],
          "name": "stdout"
        }
      ]
    },
    {
      "cell_type": "code",
      "metadata": {
        "colab": {
          "base_uri": "https://localhost:8080/"
        },
        "id": "1GG6Cz8AIf-W",
        "outputId": "a14a4483-8c95-4fc3-ebb3-5a28f086a9f7"
      },
      "source": [
        "%%R\n",
        "#Calculating exitrates variance\n",
        "variance <- var(df3$ExitRates)\n",
        "variance"
      ],
      "execution_count": null,
      "outputs": [
        {
          "output_type": "stream",
          "text": [
            "[1] 0.0004723764\n"
          ],
          "name": "stdout"
        }
      ]
    },
    {
      "cell_type": "code",
      "metadata": {
        "colab": {
          "base_uri": "https://localhost:8080/"
        },
        "id": "nrWK-T8XIrWG",
        "outputId": "a8d4f50a-25d2-40d1-bffe-0aeee410e16c"
      },
      "source": [
        "%%R\n",
        "#Standard Deviation\n",
        "std <- sd(df3$ExitRates)\n",
        "std"
      ],
      "execution_count": null,
      "outputs": [
        {
          "output_type": "stream",
          "text": [
            "[1] 0.02173422\n"
          ],
          "name": "stdout"
        }
      ]
    },
    {
      "cell_type": "code",
      "metadata": {
        "colab": {
          "base_uri": "https://localhost:8080/"
        },
        "id": "9cqGXTNgI5g0",
        "outputId": "5bb9f0ff-a1bd-4ed6-896b-e08a0a55186a"
      },
      "source": [
        "%%R\n",
        "#Skewness\n",
        "install.packages(\"moments\")\n",
        "library(moments)\n",
        "skewness(df3$ExitRates)\n"
      ],
      "execution_count": null,
      "outputs": [
        {
          "output_type": "stream",
          "text": [
            "R[write to console]: Installing package into ‘/usr/local/lib/R/site-library’\n",
            "(as ‘lib’ is unspecified)\n",
            "\n",
            "R[write to console]: trying URL 'https://cran.rstudio.com/src/contrib/moments_0.14.tar.gz'\n",
            "\n",
            "R[write to console]: Content type 'application/x-gzip'\n",
            "R[write to console]:  length 7650 bytes\n",
            "\n",
            "R[write to console]: =\n",
            "R[write to console]: =\n",
            "R[write to console]: =\n",
            "R[write to console]: =\n",
            "R[write to console]: =\n",
            "R[write to console]: =\n",
            "R[write to console]: =\n",
            "R[write to console]: =\n",
            "R[write to console]: =\n",
            "R[write to console]: =\n",
            "R[write to console]: =\n",
            "R[write to console]: =\n",
            "R[write to console]: =\n",
            "R[write to console]: =\n",
            "R[write to console]: =\n",
            "R[write to console]: =\n",
            "R[write to console]: =\n",
            "R[write to console]: =\n",
            "R[write to console]: =\n",
            "R[write to console]: =\n",
            "R[write to console]: =\n",
            "R[write to console]: =\n",
            "R[write to console]: =\n",
            "R[write to console]: =\n",
            "R[write to console]: =\n",
            "R[write to console]: =\n",
            "R[write to console]: =\n",
            "R[write to console]: =\n",
            "R[write to console]: =\n",
            "R[write to console]: =\n",
            "R[write to console]: =\n",
            "R[write to console]: =\n",
            "R[write to console]: =\n",
            "R[write to console]: =\n",
            "R[write to console]: =\n",
            "R[write to console]: =\n",
            "R[write to console]: =\n",
            "R[write to console]: =\n",
            "R[write to console]: =\n",
            "R[write to console]: =\n",
            "R[write to console]: =\n",
            "R[write to console]: =\n",
            "R[write to console]: =\n",
            "R[write to console]: =\n",
            "R[write to console]: =\n",
            "R[write to console]: =\n",
            "R[write to console]: =\n",
            "R[write to console]: =\n",
            "R[write to console]: =\n",
            "R[write to console]: =\n",
            "R[write to console]: \n",
            "\n",
            "R[write to console]: downloaded 7650 bytes\n",
            "\n",
            "\n",
            "R[write to console]: \n",
            "\n",
            "R[write to console]: \n",
            "R[write to console]: The downloaded source packages are in\n",
            "\t‘/tmp/Rtmpzhx1ZC/downloaded_packages’\n",
            "R[write to console]: \n",
            "R[write to console]: \n",
            "\n"
          ],
          "name": "stderr"
        },
        {
          "output_type": "stream",
          "text": [
            "[1] 1.727093\n"
          ],
          "name": "stdout"
        }
      ]
    },
    {
      "cell_type": "code",
      "metadata": {
        "colab": {
          "base_uri": "https://localhost:8080/"
        },
        "id": "2ZPSGHXiJJN0",
        "outputId": "5d4d3bd0-bec7-48be-9a8f-7d933e68f69f"
      },
      "source": [
        "%%R\n",
        "#Kurtosis\n",
        "data <- df3$ExitRates\n",
        "kurtosis(data)"
      ],
      "execution_count": null,
      "outputs": [
        {
          "output_type": "stream",
          "text": [
            "[1] 7.759255\n"
          ],
          "name": "stdout"
        }
      ]
    },
    {
      "cell_type": "code",
      "metadata": {
        "colab": {
          "base_uri": "https://localhost:8080/",
          "height": 497
        },
        "id": "hDMlvt39KV0q",
        "outputId": "af8ebc74-ed7e-42c3-e7d8-7bcaf7d468b5"
      },
      "source": [
        "%%R\n",
        "#Product related frequency Bar Graph\n",
        "product <- df3$ProductRelated\n",
        "#Applying the table() function will compute the frequency distribution \n",
        "pro_frequency <- table(product)\n",
        "barplot(pro_frequency,main=\"product related frequency\")"
      ],
      "execution_count": null,
      "outputs": [
        {
          "output_type": "display_data",
          "data": {
            "image/png": "[encoded data removed]"
          },
          "metadata": {
            "tags": []
          }
        }
      ]
    },
    {
      "cell_type": "code",
      "metadata": {
        "colab": {
          "base_uri": "https://localhost:8080/",
          "height": 1000
        },
        "id": "eSjMt9xRyLPr",
        "outputId": "e5113169-8355-4dae-d8e6-0151fec86aab"
      },
      "source": [
        "#using freq function to run character variables\n",
        "%%R\n",
        "freq(df3)"
      ],
      "execution_count": null,
      "outputs": [
        {
          "output_type": "stream",
          "text": [
            "   Month frequency percentage cumulative_perc\n",
            "1    May      2800      26.00           26.00\n",
            "2    Nov      2715      25.21           51.21\n",
            "3    Mar      1676      15.56           66.77\n",
            "4    Dec      1545      14.35           81.12\n",
            "5    Oct       512       4.75           85.87\n",
            "6    Sep       416       3.86           89.73\n",
            "7    Aug       383       3.56           93.29\n",
            "8    Jul       367       3.41           96.70\n",
            "9   June       222       2.06           98.76\n",
            "10   Feb       132       1.23          100.00\n",
            "\n",
            "        VisitorType frequency percentage cumulative_perc\n",
            "1 Returning_Visitor      9042      83.97           83.97\n",
            "2       New_Visitor      1658      15.40           99.37\n",
            "3             Other        68       0.63          100.00\n",
            "\n",
            "[1] \"Variables processed: Month, VisitorType\"\n"
          ],
          "name": "stdout"
        },
        {
          "output_type": "display_data",
          "data": {
            "image/png": "[encoded data removed]"
          },
          "metadata": {
            "tags": []
          }
        },
        {
          "output_type": "display_data",
          "data": {
            "image/png": "[encoded data removed]"
          },
          "metadata": {
            "tags": []
          }
        }
      ]
    },
    {
      "cell_type": "code",
      "metadata": {
        "colab": {
          "base_uri": "https://localhost:8080/",
          "height": 497
        },
        "id": "QYaZRHKwlRxG",
        "outputId": "a981a4d8-f430-4dfd-9f03-3f65b6969142"
      },
      "source": [
        "%%R\n",
        "#Visitor Frequency Bar Graph\n",
        "visitor <- df3$VisitorType\n",
        "#Applying the table() function will compute the frequency distribution of visitor\n",
        "visitor_frequency <- table(visitor)\n",
        "barplot(visitor_frequency,main=\"visitorfrequency\")"
      ],
      "execution_count": null,
      "outputs": [
        {
          "output_type": "display_data",
          "data": {
            "image/png": "[encoded data removed]"
          },
          "metadata": {
            "tags": []
          }
        }
      ]
    },
    {
      "cell_type": "markdown",
      "metadata": {
        "id": "bzSa96v6m_B9"
      },
      "source": [
        "returning visitors are more prone to make transactions"
      ]
    },
    {
      "cell_type": "code",
      "metadata": {
        "colab": {
          "base_uri": "https://localhost:8080/",
          "height": 497
        },
        "id": "wrxKEWJfmSNx",
        "outputId": "871576d8-178f-4d99-cca0-06bab835db23"
      },
      "source": [
        "%%R\n",
        "#Month Frequency Bar Graph\n",
        "month <- df3$Month\n",
        "#Applying the table() function will compute the frequency distribution of months\n",
        "month_frequency <- table(month)\n",
        "barplot(month_frequency,main=\"monthfrequency\")"
      ],
      "execution_count": null,
      "outputs": [
        {
          "output_type": "display_data",
          "data": {
            "image/png": "[encoded data removed]"
          },
          "metadata": {
            "tags": []
          }
        }
      ]
    },
    {
      "cell_type": "markdown",
      "metadata": {
        "id": "0QkUv0sLm7gU"
      },
      "source": [
        ""
      ]
    },
    {
      "cell_type": "markdown",
      "metadata": {
        "id": "AZgGLRRWmswu"
      },
      "source": [
        "Incoperating more marketing could lead to more sales in the months of may and november"
      ]
    },
    {
      "cell_type": "code",
      "metadata": {
        "colab": {
          "base_uri": "https://localhost:8080/",
          "height": 497
        },
        "id": "jtMjJ-E_nKKm",
        "outputId": "9f33ce2f-b108-4699-b4b3-2e5c579effed"
      },
      "source": [
        "%%R\n",
        "#Day Frequency Bar Graph\n",
        "day <- df3$Weekend\n",
        "#Applying the table() function will compute the frequency distribution of day \n",
        "day_frequency <- table(day)\n",
        "barplot(day_frequency,main=\"dayfrequency\")"
      ],
      "execution_count": null,
      "outputs": [
        {
          "output_type": "display_data",
          "data": {
            "image/png": "[encoded data removed]"
          },
          "metadata": {
            "tags": []
          }
        }
      ]
    },
    {
      "cell_type": "code",
      "metadata": {
        "colab": {
          "base_uri": "https://localhost:8080/",
          "height": 497
        },
        "id": "IZoPRfTj7kP8",
        "outputId": "4be8463b-ffc1-43c6-8f87-f8cf3857f8b0"
      },
      "source": [
        "#plotting numerical values\n",
        "%%R\n",
        "plot_num(df3)"
      ],
      "execution_count": null,
      "outputs": [
        {
          "output_type": "display_data",
          "data": {
            "image/png": "[encoded data removed]"
          },
          "metadata": {
            "tags": []
          }
        }
      ]
    },
    {
      "cell_type": "markdown",
      "metadata": {
        "id": "UT5Ky9cunfdQ"
      },
      "source": [
        "most of the transactions can mostly happen during the weekdays"
      ]
    },
    {
      "cell_type": "markdown",
      "metadata": {
        "id": "4gtb2XovLBAx"
      },
      "source": [
        "# Bivariate analysis"
      ]
    },
    {
      "cell_type": "code",
      "metadata": {
        "colab": {
          "base_uri": "https://localhost:8080/"
        },
        "id": "yYAHB4qpLHks",
        "outputId": "4b08024e-eb3b-45e0-b542-04648548bd5f"
      },
      "source": [
        "%%R\n",
        "#covariance\n",
        "pro <- df3$ProductRelated\n",
        "# \n",
        "# ---\n",
        "# \n",
        "produration <- df3$ProductRelated_Duration\n",
        "cov(pro,produration)"
      ],
      "execution_count": null,
      "outputs": [
        {
          "output_type": "stream",
          "text": [
            "[1] 79147.06\n"
          ],
          "name": "stdout"
        }
      ]
    },
    {
      "cell_type": "markdown",
      "metadata": {
        "id": "vax1WwaRLuys"
      },
      "source": [
        "theres a positive covariance between the two variables"
      ]
    },
    {
      "cell_type": "code",
      "metadata": {
        "colab": {
          "base_uri": "https://localhost:8080/"
        },
        "id": "Dya7tA4dLHnu",
        "outputId": "789e4698-33ad-4af2-e507-756f5f37d43a"
      },
      "source": [
        "%%R\n",
        "#covariance\n",
        "pro <- df3$ProductRelated\n",
        "# \n",
        "# ---\n",
        "# \n",
        "produration <- df3$ProductRelated_Duration\n",
        "cor(pro,produration)"
      ],
      "execution_count": null,
      "outputs": [
        {
          "output_type": "stream",
          "text": [
            "[1] 0.8557568\n"
          ],
          "name": "stdout"
        }
      ]
    },
    {
      "cell_type": "markdown",
      "metadata": {
        "id": "5JDsFvi9MCsC"
      },
      "source": [
        "theres a linear relationship between the two variables"
      ]
    },
    {
      "cell_type": "code",
      "metadata": {
        "colab": {
          "base_uri": "https://localhost:8080/",
          "height": 497
        },
        "id": "WifJdgw7MLR6",
        "outputId": "8ce8a37c-48da-4037-9a38-3d107ad72e23"
      },
      "source": [
        "%%R\n",
        "#plotting product vs product related duration\n",
        "plot(df3$ProductRelated,df3$ProductRelated_Duration.Usage,main=\"product vs product related duration\")\n"
      ],
      "execution_count": null,
      "outputs": [
        {
          "output_type": "display_data",
          "data": {
            "image/png": "[encoded data removed]"
          },
          "metadata": {
            "tags": []
          }
        }
      ]
    },
    {
      "cell_type": "markdown",
      "metadata": {
        "id": "2GUX33Es9Qlf"
      },
      "source": [
        "there is arelationship between the two"
      ]
    },
    {
      "cell_type": "code",
      "metadata": {
        "colab": {
          "base_uri": "https://localhost:8080/",
          "height": 497
        },
        "id": "Jwo71A9jLHqd",
        "outputId": "b96da3eb-3268-4461-ec43-c71ed81d5986"
      },
      "source": [
        "%%R\n",
        "value <- df3$PageValues \n",
        "bounce <- df3$ BounceRates\n",
        "plot(value, bounce, xlab=\"value\", ylab=\"bounce\",main=\"Value vs bounce rates\")\n"
      ],
      "execution_count": null,
      "outputs": [
        {
          "output_type": "display_data",
          "data": {
            "image/png": "[encoded data removed]"
          },
          "metadata": {
            "tags": []
          }
        }
      ]
    },
    {
      "cell_type": "markdown",
      "metadata": {
        "id": "4uNq1yUYOMCq"
      },
      "source": [
        "# Hierachical clustering\n",
        "**Advantages of hierachical clustering**\n",
        "1. it is easy to understand and implement\n",
        "2. The dendrogram output of the algorithm can be used to understand the big picture as well as the groups in your data.\n",
        "\n",
        "**Disadvantages of hierachical clustering**\n",
        "Sensitivity to noise and outliers"
      ]
    },
    {
      "cell_type": "code",
      "metadata": {
        "colab": {
          "base_uri": "https://localhost:8080/"
        },
        "id": "KwVug9jPW0-d",
        "outputId": "439186bb-97c7-44ce-b333-7e938f461357"
      },
      "source": [
        "%%R\n",
        "str(df3)"
      ],
      "execution_count": null,
      "outputs": [
        {
          "output_type": "stream",
          "text": [
            "'data.frame':\t10768 obs. of  18 variables:\n",
            " $ Administrative         : int  0 0 0 0 0 0 0 0 0 0 ...\n",
            " $ Administrative_Duration: num  0 0 0 0 0 0 0 0 0 0 ...\n",
            " $ Informational          : int  0 0 0 0 0 0 0 0 0 0 ...\n",
            " $ Informational_Duration : num  0 0 0 0 0 0 0 0 0 0 ...\n",
            " $ ProductRelated         : int  2 10 19 2 3 3 16 7 6 2 ...\n",
            " $ ProductRelated_Duration: num  64 628 154 37 738 ...\n",
            " $ BounceRates            : num  0 0.02 0.0158 0 0 ...\n",
            " $ ExitRates              : num  0.1 0.05 0.0246 0.1 0.0222 ...\n",
            " $ PageValues             : num  0 0 0 0 0 0 0 0 0 0 ...\n",
            " $ SpecialDay             : num  0 0 0 0.8 0.4 0 0.4 0 0 0 ...\n",
            " $ Month                  : chr  \"Feb\" \"Feb\" \"Feb\" \"Feb\" ...\n",
            " $ OperatingSystems       : int  2 3 2 2 2 1 1 1 2 3 ...\n",
            " $ Browser                : int  2 3 2 2 4 1 1 1 5 2 ...\n",
            " $ Region                 : int  1 1 1 2 1 3 4 1 1 3 ...\n",
            " $ TrafficType            : int  2 4 3 3 2 3 3 3 3 3 ...\n",
            " $ VisitorType            : chr  \"Returning_Visitor\" \"Returning_Visitor\" \"Returning_Visitor\" \"Returning_Visitor\" ...\n",
            " $ Weekend                : logi  FALSE TRUE FALSE FALSE FALSE FALSE ...\n",
            " $ Revenue                : logi  FALSE FALSE FALSE FALSE FALSE FALSE ...\n",
            " - attr(*, \"na.action\")= 'omit' Named int [1:14] 1066 1133 1134 1135 1136 1137 1474 1475 1476 1477 ...\n",
            "  ..- attr(*, \"names\")= chr [1:14] \"1066\" \"1133\" \"1134\" \"1135\" ...\n"
          ],
          "name": "stdout"
        }
      ]
    },
    {
      "cell_type": "code",
      "metadata": {
        "id": "vbyKFfMKQWtY"
      },
      "source": [
        "#DRopping some of the columns\n",
        "%%R\n",
        "\n",
        "drop <- c(\"Administrative\",\"Revenue\",\"Weekend\",\"VisitorType\",\"TrafficType\",\"Region\",\" Browser\",\"OperatingSystems\",\"OperatingSystems\",\" ProductRelated \",\"Informational \")\n",
        "df4 = df3[,!(names(df3) %in% drop)]"
      ],
      "execution_count": null,
      "outputs": []
    },
    {
      "cell_type": "code",
      "metadata": {
        "colab": {
          "base_uri": "https://localhost:8080/"
        },
        "id": "pFstHmIAY_8e",
        "outputId": "2dd5e0d3-b169-4d0b-c24c-dafeabd501e4"
      },
      "source": [
        "%%R\n",
        "head(df4)\n",
        "drop <- c(\"Month\")\n",
        "dff = df4[,!(names(df4)%in% drop)]\n",
        "head(dff)"
      ],
      "execution_count": null,
      "outputs": [
        {
          "output_type": "stream",
          "text": [
            "   Administrative_Duration Informational Informational_Duration ProductRelated\n",
            "2                        0             0                      0              2\n",
            "5                        0             0                      0             10\n",
            "6                        0             0                      0             19\n",
            "9                        0             0                      0              2\n",
            "10                       0             0                      0              3\n",
            "11                       0             0                      0              3\n",
            "   ProductRelated_Duration BounceRates  ExitRates PageValues SpecialDay Browser\n",
            "2                  64.0000  0.00000000 0.10000000          0        0.0       2\n",
            "5                 627.5000  0.02000000 0.05000000          0        0.0       3\n",
            "6                 154.2167  0.01578947 0.02456140          0        0.0       2\n",
            "9                  37.0000  0.00000000 0.10000000          0        0.8       2\n",
            "10                738.0000  0.00000000 0.02222222          0        0.4       4\n",
            "11                395.0000  0.00000000 0.06666667          0        0.0       1\n"
          ],
          "name": "stdout"
        }
      ]
    },
    {
      "cell_type": "code",
      "metadata": {
        "colab": {
          "base_uri": "https://localhost:8080/"
        },
        "id": "1j5h17fTK9R4",
        "outputId": "7e48343e-b109-4fbe-f788-79e764c7ed26"
      },
      "source": [
        "# scalling the dataset to be used for clustering\n",
        "%%R\n",
        "df <- scale(dff)\n",
        "head(dff)"
      ],
      "execution_count": null,
      "outputs": [
        {
          "output_type": "stream",
          "text": [
            "   Administrative_Duration Informational Informational_Duration ProductRelated\n",
            "2                        0             0                      0              2\n",
            "5                        0             0                      0             10\n",
            "6                        0             0                      0             19\n",
            "9                        0             0                      0              2\n",
            "10                       0             0                      0              3\n",
            "11                       0             0                      0              3\n",
            "   ProductRelated_Duration BounceRates  ExitRates PageValues SpecialDay Browser\n",
            "2                  64.0000  0.00000000 0.10000000          0        0.0       2\n",
            "5                 627.5000  0.02000000 0.05000000          0        0.0       3\n",
            "6                 154.2167  0.01578947 0.02456140          0        0.0       2\n",
            "9                  37.0000  0.00000000 0.10000000          0        0.8       2\n",
            "10                738.0000  0.00000000 0.02222222          0        0.4       4\n",
            "11                395.0000  0.00000000 0.06666667          0        0.0       1\n"
          ],
          "name": "stdout"
        }
      ]
    },
    {
      "cell_type": "code",
      "metadata": {
        "id": "of07dDNwa1DE"
      },
      "source": [
        "%%R\n",
        "# i now use the R function hclust() for hierarchical clustering\n",
        "# ---\n",
        "# \n",
        "\n",
        "# First i use the dist() function to compute the Euclidean distance between observations, \n",
        "# d will be the first argument in the hclust() function dissimilarity matrix\n",
        "# ---\n",
        "#\n",
        "d <- dist(dff, method = \"euclidean\")\n",
        "\n",
        "# i then hierarchical clustering using the Ward's method\n",
        "# ---\n",
        "# \n",
        "res.hc <- hclust(d, method = \"ward.D2\" )"
      ],
      "execution_count": null,
      "outputs": []
    },
    {
      "cell_type": "code",
      "metadata": {
        "colab": {
          "base_uri": "https://localhost:8080/",
          "height": 497
        },
        "id": "firIam7gbERk",
        "outputId": "0afca0e2-ba62-44f8-b7fd-da3cc5625bbc"
      },
      "source": [
        "%%R\n",
        "# Lastly, i plot the obtained dendrogram\n",
        "# ---\n",
        "# \n",
        "plot(res.hc, cex = 0.6, hang = -1)"
      ],
      "execution_count": null,
      "outputs": [
        {
          "output_type": "display_data",
          "data": {
            "image/png": "[encoded data removed]"
          },
          "metadata": {
            "tags": []
          }
        }
      ]
    },
    {
      "cell_type": "markdown",
      "metadata": {
        "id": "Ca9uVLtpbhdb"
      },
      "source": [
        "# KMEANS CLUSTERING\n",
        "**Advantages of k means clustering**\n",
        "1. Generalizes to clusters of different shapes and sizes, such as elliptical clusters.\n",
        "**disadvantage**\n",
        "1.  k-means can only handle numerical data"
      ]
    },
    {
      "cell_type": "markdown",
      "metadata": {
        "id": "IRZo5ZfXbnMC"
      },
      "source": [
        "Question: Perform clustering analysis on the following dataset using the K-Means clustering algorithm."
      ]
    },
    {
      "cell_type": "code",
      "metadata": {
        "colab": {
          "base_uri": "https://localhost:8080/"
        },
        "id": "sQpG9Pscbl_M",
        "outputId": "e5d1502e-7fdd-45eb-adfe-810e0f68765e"
      },
      "source": [
        "%%R\n",
        "drop <- c(\"Administrative\",\"Weekend\",\"VisitorType\",\"TrafficType\",\"Region\",\" Browser\",\"OperatingSystems\",\"OperatingSystems\",\" ProductRelated \",\"Informational \")\n",
        "df5 = df3[,!(names(df3) %in% drop)]\n",
        "head(df5)"
      ],
      "execution_count": null,
      "outputs": [
        {
          "output_type": "stream",
          "text": [
            "   Administrative_Duration Informational Informational_Duration ProductRelated\n",
            "2                        0             0                      0              2\n",
            "5                        0             0                      0             10\n",
            "6                        0             0                      0             19\n",
            "9                        0             0                      0              2\n",
            "10                       0             0                      0              3\n",
            "11                       0             0                      0              3\n",
            "   ProductRelated_Duration BounceRates  ExitRates PageValues SpecialDay Month\n",
            "2                  64.0000  0.00000000 0.10000000          0        0.0   Feb\n",
            "5                 627.5000  0.02000000 0.05000000          0        0.0   Feb\n",
            "6                 154.2167  0.01578947 0.02456140          0        0.0   Feb\n",
            "9                  37.0000  0.00000000 0.10000000          0        0.8   Feb\n",
            "10                738.0000  0.00000000 0.02222222          0        0.4   Feb\n",
            "11                395.0000  0.00000000 0.06666667          0        0.0   Feb\n",
            "   Browser Revenue\n",
            "2        2   FALSE\n",
            "5        3   FALSE\n",
            "6        2   FALSE\n",
            "9        2   FALSE\n",
            "10       4   FALSE\n",
            "11       1   FALSE\n"
          ],
          "name": "stdout"
        }
      ]
    },
    {
      "cell_type": "code",
      "metadata": {
        "colab": {
          "base_uri": "https://localhost:8080/"
        },
        "id": "8rNIRfTGd6Kv",
        "outputId": "717cb58a-90de-4e6a-e573-1f7870c66504"
      },
      "source": [
        "%%R\n",
        "#Preprocessing the dataset\n",
        "# ---\n",
        "# Since clustering is a type of Unsupervised Learning, \n",
        "# i would not require Class Label(output) during execution of our algorithm. \n",
        "#\n",
        "# \n",
        "# ---\n",
        "#\n",
        "final<- df5[, c(1, 2, 3, 4,5,6,7,8,9,11)]\n",
        "final.class<- df3[, \"Weekend\"]\n",
        "head(final)"
      ],
      "execution_count": null,
      "outputs": [
        {
          "output_type": "stream",
          "text": [
            "   Administrative_Duration Informational Informational_Duration ProductRelated\n",
            "2                        0             0                      0              2\n",
            "5                        0             0                      0             10\n",
            "6                        0             0                      0             19\n",
            "9                        0             0                      0              2\n",
            "10                       0             0                      0              3\n",
            "11                       0             0                      0              3\n",
            "   ProductRelated_Duration BounceRates  ExitRates PageValues SpecialDay Browser\n",
            "2                  64.0000  0.00000000 0.10000000          0        0.0       2\n",
            "5                 627.5000  0.02000000 0.05000000          0        0.0       3\n",
            "6                 154.2167  0.01578947 0.02456140          0        0.0       2\n",
            "9                  37.0000  0.00000000 0.10000000          0        0.8       2\n",
            "10                738.0000  0.00000000 0.02222222          0        0.4       4\n",
            "11                395.0000  0.00000000 0.06666667          0        0.0       1\n"
          ],
          "name": "stdout"
        }
      ]
    },
    {
      "cell_type": "code",
      "metadata": {
        "colab": {
          "base_uri": "https://localhost:8080/"
        },
        "id": "9Oykpt3NeosU",
        "outputId": "bed1de80-1d31-41d8-c797-a2c9ca8494af"
      },
      "source": [
        "%%R\n",
        "# Previewing the class column\n",
        "# ---\n",
        "# \n",
        "head(final.class)"
      ],
      "execution_count": null,
      "outputs": [
        {
          "output_type": "stream",
          "text": [
            "[1] FALSE  TRUE FALSE FALSE FALSE FALSE\n"
          ],
          "name": "stdout"
        }
      ]
    },
    {
      "cell_type": "code",
      "metadata": {
        "colab": {
          "base_uri": "https://localhost:8080/"
        },
        "id": "hLNbajdVe2yz",
        "outputId": "e485a93a-2650-4fea-8b56-458801d364a2"
      },
      "source": [
        "%%R\n",
        "# Normalizing the dataset so that no particular attribute \n",
        "# has more impact on clustering algorithm than others.\n",
        "# ---\n",
        "# \n",
        "normalize <- function(x){\n",
        "  return ((x-min(x)) / (max(x)-min(x)))\n",
        "}\n",
        "\n",
        "final$Administrative_Duration<- normalize(final$Administrative_Duration)\n",
        "final$Informational<- normalize(final$Informational)\n",
        "final$Informational_Duration<- normalize(final$Informational_Duration)\n",
        "final$ProductRelated<- normalize(final$ProductRelated)\n",
        "final$ProductRelated_Duration<- normalize(final$ProductRelated_Duration)\n",
        "final$BounceRates  <- normalize(final$BounceRates)\n",
        "final$ExitRates  <- normalize(final$ExitRates)\n",
        "final$PageValues  <- normalize(final$PageValues)\n",
        "\n",
        "final$SpecialDay  <- normalize(final$SpecialDay)\n",
        "final$ Browser  <- normalize(final$ Browser)\n",
        "\n",
        "head(final)"
      ],
      "execution_count": null,
      "outputs": [
        {
          "output_type": "stream",
          "text": [
            "   Administrative_Duration Informational Informational_Duration ProductRelated\n",
            "2             0.0002941393             0           0.0003920992    0.002836879\n",
            "5             0.0002941393             0           0.0003920992    0.014184397\n",
            "6             0.0002941393             0           0.0003920992    0.026950355\n",
            "9             0.0002941393             0           0.0003920992    0.002836879\n",
            "10            0.0002941393             0           0.0003920992    0.004255319\n",
            "11            0.0002941393             0           0.0003920992    0.004255319\n",
            "   ProductRelated_Duration BounceRates ExitRates PageValues SpecialDay\n",
            "2             0.0010160295   0.0000000 0.5000000          0        0.0\n",
            "5             0.0098242234   0.4800000 0.2500000          0        0.0\n",
            "6             0.0024262263   0.3789474 0.1228070          0        0.0\n",
            "9             0.0005939865   0.0000000 0.5000000          0        0.8\n",
            "10            0.0115514735   0.0000000 0.1111111          0        0.4\n",
            "11            0.0061899642   0.0000000 0.3333333          0        0.0\n",
            "      Browser\n",
            "2  0.08333333\n",
            "5  0.16666667\n",
            "6  0.08333333\n",
            "9  0.08333333\n",
            "10 0.25000000\n",
            "11 0.00000000\n"
          ],
          "name": "stdout"
        }
      ]
    },
    {
      "cell_type": "code",
      "metadata": {
        "id": "uJAADIjwiFwh"
      },
      "source": [
        "%%R\n",
        "# Applying the K-means clustering algorithm with no. of centroids(k)=3\n",
        "# ---\n",
        "# \n",
        "result<- kmeans(final,3)"
      ],
      "execution_count": null,
      "outputs": []
    },
    {
      "cell_type": "code",
      "metadata": {
        "colab": {
          "base_uri": "https://localhost:8080/"
        },
        "id": "LzcTy6OHiMww",
        "outputId": "53429d74-bd8b-42f1-e62c-31ad097fe049"
      },
      "source": [
        "%%R\n",
        "# Previewing the no. of records in each cluster\n",
        "# \n",
        "result$size "
      ],
      "execution_count": null,
      "outputs": [
        {
          "output_type": "stream",
          "text": [
            "[1] 8100  752 1916\n"
          ],
          "name": "stdout"
        }
      ]
    },
    {
      "cell_type": "code",
      "metadata": {
        "colab": {
          "base_uri": "https://localhost:8080/"
        },
        "id": "zg-OsWC0iSWw",
        "outputId": "b4a58c03-0396-4281-a564-2d126db3038f"
      },
      "source": [
        "%%R\n",
        "# Getting the value of cluster center datapoint value(3 centers for k=3)\n",
        "# ---\n",
        "# \n",
        "result$centers "
      ],
      "execution_count": null,
      "outputs": [
        {
          "output_type": "stream",
          "text": [
            "  Administrative_Duration Informational Informational_Duration ProductRelated\n",
            "1              0.02937642    0.02458848             0.01620063     0.05311076\n",
            "2              0.01453612    0.01701020             0.01193798     0.04905877\n",
            "3              0.02186743    0.02152923             0.01433596     0.03796695\n",
            "  ProductRelated_Duration BounceRates ExitRates  PageValues  SpecialDay\n",
            "1              0.02204286  0.05396982 0.1165310 0.021688277 0.002469136\n",
            "2              0.01889179  0.20106788 0.1736307 0.007599440 0.691755319\n",
            "3              0.01691031  0.56270634 0.2247297 0.009208272 0.019102296\n",
            "    Browser\n",
            "1 0.1159259\n",
            "2 0.1216755\n",
            "3 0.1035578\n"
          ],
          "name": "stdout"
        }
      ]
    },
    {
      "cell_type": "code",
      "metadata": {
        "colab": {
          "base_uri": "https://localhost:8080/",
          "height": 497
        },
        "id": "RNLa5MRfiu1c",
        "outputId": "581103cd-91dd-4f69-9ea1-d70ad74eeb00"
      },
      "source": [
        "%%R\n",
        "# Verifying the results of clustering\n",
        "# ---\n",
        "# \n",
        "par(mfrow = c(2,2), mar = c(5,4,2,2))\n",
        "\n",
        "\n",
        "plot(final[c(1,2)], col = result$cluster)\n",
        "\n",
        "# ---\n",
        "#\n",
        "plot(final[c(1,2)], col = final.class)\n",
        "# Plotting to see how points have been distributed in clusters\n",
        "# ---\n",
        "# \n",
        "plot(final[c(3,4)], col = result$cluster)\n",
        "plot(final[c(3,4)], col = final.class)\n"
      ],
      "execution_count": null,
      "outputs": [
        {
          "output_type": "display_data",
          "data": {
            "image/png": "[encoded data removed]"
          },
          "metadata": {
            "tags": []
          }
        }
      ]
    },
    {
      "cell_type": "markdown",
      "metadata": {
        "id": "x7x6xdrbjuwm"
      },
      "source": [
        "Result of table shows that Cluster 1 corresponds to false,\n",
        "Cluster 2 corresponds to true."
      ]
    },
    {
      "cell_type": "code",
      "metadata": {
        "colab": {
          "base_uri": "https://localhost:8080/"
        },
        "id": "pfjCPS5akCVO",
        "outputId": "a08be750-49ba-414d-9a7d-117606a690d8"
      },
      "source": [
        "%%R\n",
        "\n",
        "# \n",
        "table(result$cluster, final.class)"
      ],
      "execution_count": null,
      "outputs": [
        {
          "output_type": "stream",
          "text": [
            "   final.class\n",
            "    FALSE TRUE\n",
            "  1  6079 2021\n",
            "  2   624  128\n",
            "  3  1471  445\n"
          ],
          "name": "stdout"
        }
      ]
    },
    {
      "cell_type": "markdown",
      "metadata": {
        "id": "RYAsiJ5foieL"
      },
      "source": [
        "# Recommendations\n",
        "1. returning visitors are more prone to make transactions\n",
        "2. Incoperating more marketing could lead to more sales in the months of may and november\n",
        "3. most of the transactions can mostly happen during the weekdays\n"
      ]
    },
    {
      "cell_type": "markdown",
      "metadata": {
        "id": "QWHQX1Ifo-xU"
      },
      "source": [
        "# Follow up Questions\n",
        "1. Did I have the right data?\n",
        "Yes the data was right for my analysis.\n",
        "2. Did we need other data?\n",
        "No\n",
        "3. Did I the right objective\n",
        "Yes, I was able to achieve my objective\n"
      ]
    }
  ]
}